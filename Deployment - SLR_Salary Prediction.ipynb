{
 "cells": [
  {
   "cell_type": "code",
   "execution_count": 1,
   "id": "6e97e9c2",
   "metadata": {},
   "outputs": [],
   "source": [
    "import pickle"
   ]
  },
  {
   "cell_type": "code",
   "execution_count": 3,
   "id": "604a1450",
   "metadata": {},
   "outputs": [],
   "source": [
    "# Use the model (rb = read binary)\n",
    "loaded_model = pickle.load(open(\"salary_prediction.sav\",\"rb\"))"
   ]
  },
  {
   "cell_type": "code",
   "execution_count": 4,
   "id": "6fa12fe8",
   "metadata": {},
   "outputs": [
    {
     "name": "stdout",
     "output_type": "stream",
     "text": [
      "Enter your Years of Experience : 0\n",
      "Your Avg salary will be :  [[26777.3913412]]\n"
     ]
    },
    {
     "name": "stderr",
     "output_type": "stream",
     "text": [
      "C:\\Users\\Administrator\\anaconda3\\Lib\\site-packages\\sklearn\\base.py:464: UserWarning: X does not have valid feature names, but LinearRegression was fitted with feature names\n",
      "  warnings.warn(\n"
     ]
    }
   ],
   "source": [
    "#get the input from user\n",
    "yearsofexp = int(input(\"Enter your Years of Experience : \"))\n",
    "\n",
    "# Assign the variable to get the input and give the output\n",
    "result = loaded_model.predict([[yearsofexp]])\n",
    "print(\"Your Avg salary will be : \", result)"
   ]
  },
  {
   "cell_type": "code",
   "execution_count": null,
   "id": "b976c7fa",
   "metadata": {},
   "outputs": [],
   "source": []
  }
 ],
 "metadata": {
  "kernelspec": {
   "display_name": "Python 3 (ipykernel)",
   "language": "python",
   "name": "python3"
  },
  "language_info": {
   "codemirror_mode": {
    "name": "ipython",
    "version": 3
   },
   "file_extension": ".py",
   "mimetype": "text/x-python",
   "name": "python",
   "nbconvert_exporter": "python",
   "pygments_lexer": "ipython3",
   "version": "3.11.5"
  }
 },
 "nbformat": 4,
 "nbformat_minor": 5
}
